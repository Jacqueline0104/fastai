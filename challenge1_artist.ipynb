{
  "nbformat": 4,
  "nbformat_minor": 0,
  "metadata": {
    "colab": {
      "provenance": [],
      "gpuType": "T4",
      "include_colab_link": true
    },
    "kernelspec": {
      "name": "python3",
      "display_name": "Python 3"
    },
    "accelerator": "GPU"
  },
  "cells": [
    {
      "cell_type": "markdown",
      "metadata": {
        "id": "view-in-github",
        "colab_type": "text"
      },
      "source": [
        "<a href=\"https://colab.research.google.com/github/Jacqueline0104/fastai/blob/master/challenge1_artist.ipynb\" target=\"_parent\"><img src=\"https://colab.research.google.com/assets/colab-badge.svg\" alt=\"Open In Colab\"/></a>"
      ]
    },
    {
      "cell_type": "markdown",
      "metadata": {
        "id": "Qn8YRe7ND7aO"
      },
      "source": [
        "# 作業 1 : 辨識名畫的作者\n",
        "\n",
        "資料集: [Best Artworks of All Time](https://www.kaggle.com/ikarus777/best-artworks-of-all-time)\n",
        "\n",
        "程式碼參考自: [Tensorflow](https://www.tensorflow.org/)\n",
        "\n",
        "> **資料集說明**\n",
        "\n",
        "After being challenged many times by my girlfriend about who is the best to guess the painter, I decided to use the power of machine learning to defeat her.I gathered a collection of artworks of the 50 most influential artists of all time.\n",
        "\n",
        "請幫幫資料集作者完成他女朋友的挑戰。**訓練一個 CNN 模型輸入是一張畫作，辨識出這張畫可能是哪個畫家的作品。**\n",
        "\n",
        "\n",
        ">**作業說明**\n",
        "\n",
        "**第一步驟**: 左上角 檔案 -> 在雲端硬碟建立副本。\n",
        "\n",
        "**第二步驟**: 右上角 共用 -> 取得連結 -> 任何知道這個連結的人都能編輯\n",
        "\n",
        "**第三步驟**: 左上角 執行階段 -> 更變執行類型 -> GPU。可以加快模型速度\n",
        "\n",
        "**第四步驟**: 檔案名稱，請填寫你的學號，把副本上下引號刪掉\n",
        "\n",
        "請 **隨意修改** 這個 colab 的程式來完成訓練 CNN 模型。**只要跑得出來 Testing Accuracy、Loss; 1~7 個作業項目即可**，不必一定要照著 todo 提示走。\n",
        "繳交時記得改檔案標題的學號。\n",
        "\n",
        "本次作業著重在前處理，現實中很多筆資料的 label 不見得會直接給你，很多都會在奇怪的位置，例如本次作業，label 隱藏在圖片名稱之中。你需要做很多前處理來提取標籤。\n",
        "\n",
        "> **作業限制**\n",
        "\n",
        "1. 不要動資料集、不要在訓練時偷看 test data\n",
        "2. 模型請手刻、手疊，**不要用 Transfer Learning** 來引入 ResNet、Inception...等知名模型來增加準確率。\n",
        "3. **不要抄襲**\n",
        "\n",
        "> **作業繳交**\n",
        "\n",
        "1. 完成訓練後保存 output 結果，更改**檔名學號**，左上角 檔案 -> 下載 -> 下載.ipynb檔。\n",
        "2. 交一個 pdf 檔，裡面需要附上**你的作業 colab 連結(設為可編輯)**、姓名學號年級、過程和執行結果的截圖，並說明你程式撰寫的過程、本次作業心得(字數不限)。\n",
        "3. 文件內至少應貼上你的 Test Acc\n",
        "4. 上述兩個檔案繳交至 ee-class。\n",
        "\n",
        "> **算分標準**\n",
        "\n",
        "20 + Test_Acc + Predict function(10 分) + 20 分文件\n",
        "1. 20 分免費送\n",
        "2. Test_Acc (1 分/1%)\n",
        "3. predict_author 有寫出來就 10 分(第七段)\n",
        "4. 20 分是文件分數\n",
        "    - 姓名、學號、年級\n",
        "    - colab 連結\n",
        "    - Test accuracy\n",
        "    - 撰寫過程與截圖\n",
        "    - 心得\n",
        "\n",
        "(明年推薦)\n",
        "1. 10 分免費送\n",
        "2. Val_Acc - 50% (20%) (1 分/1%) (有 70% 就滿分)\n",
        "3. Test_Acc (40%) (1 分/1%)\n",
        "4. predicrt_author (10%)\n",
        "5. 文件分 (20%)\n",
        "\n",
        "有問題再來信助教: lexlie.yunglinchu@gmail.com"
      ]
    },
    {
      "cell_type": "markdown",
      "metadata": {
        "id": "WQvdezCZD_pV"
      },
      "source": [
        "### 資料集下載\n",
        "\n",
        "- 資料集說明 :\n",
        "  - artists.csv : dataset of information for each artist\n",
        "  - train_resized/ : image dataset of training paintings. Image name contain image author's name.\n",
        "  - test_resized/ : image dataset of testing paintings. Image name contain image author's name.\n",
        "  - 詳細內容可以下載完點擊 colab 左側**檔案**來查看\n",
        "\n",
        "- 下載連結：\n",
        "  - train: https://drive.google.com/file/d/1K3FRVeabwV7TxboRsrkFcT34tPV9DWqr/view?usp=sharing\n",
        "  - test: https://drive.google.com/file/d/1GCzWxFrIbb4d1JSXSrt3kRb6uERVqXpx/view?usp=sharing\n"
      ]
    },
    {
      "cell_type": "code",
      "metadata": {
        "id": "hyFnRlfVD_8b"
      },
      "source": [
        "# import random\n",
        "# import os\n",
        "\n",
        "# # 大家盡量先把資料保存在本地端，然後要訓練時用本地端上傳做訓練\n",
        "# # 以節省學術網路資源，避免 IP 被封鎖\n",
        "\n",
        "# if not os.path.isfile(\"./train.zip\"):\n",
        "#     !wget -O train.zip \"http://140.115.83.111/files/art/train.zip\"\n",
        "#     !wget -O test.zip \"http://140.115.83.111/files/art/test.zip\"\n",
        "#     !unzip train.zip\n",
        "#     !unzip test.zip\n",
        "# else:\n",
        "#     !echo \"檔案已存在\""
      ],
      "execution_count": 1,
      "outputs": []
    },
    {
      "cell_type": "markdown",
      "source": [
        "掛接雲端硬碟"
      ],
      "metadata": {
        "id": "FLvCpRvOULcM"
      }
    },
    {
      "cell_type": "code",
      "source": [
        "from google.colab import drive\n",
        "drive.mount('/content/drive')"
      ],
      "metadata": {
        "colab": {
          "base_uri": "https://localhost:8080/"
        },
        "id": "yS_X5MjIF1Hp",
        "outputId": "b4de1ff0-b4fb-4a0b-b0c0-d22bbbafda0c"
      },
      "execution_count": 2,
      "outputs": [
        {
          "output_type": "stream",
          "name": "stdout",
          "text": [
            "Mounted at /content/drive\n"
          ]
        }
      ]
    },
    {
      "cell_type": "markdown",
      "metadata": {
        "id": "UciERtA-EDeZ"
      },
      "source": [
        "## 1. 讀入封包"
      ]
    },
    {
      "cell_type": "code",
      "metadata": {
        "id": "A9CjTBHvED0t"
      },
      "source": [
        "import pandas as pd\n",
        "import numpy as np\n",
        "from collections import Counter\n",
        "\n",
        "import matplotlib.pyplot as plt\n",
        "import seaborn as sns\n",
        "\n",
        "import tensorflow as tf\n",
        "from tensorflow import keras\n",
        "from keras import layers\n",
        "import cv2 as cv\n",
        "import os\n",
        "import random\n",
        "\n",
        "from sklearn.utils import class_weight\n",
        "from sklearn.metrics import classification_report, roc_auc_score\n"
      ],
      "execution_count": 3,
      "outputs": []
    },
    {
      "cell_type": "markdown",
      "metadata": {
        "id": "m_LXt7ReEGQW"
      },
      "source": [
        "## 2. 取得資料集\n",
        "\n",
        "- **我們來檢視一下 artist.csv**，重要內容包含:\n",
        "  - 畫家名稱 (name)\n",
        "  - 風格 (genre)\n",
        "  - 資料集內畫作數量 (paintings)\n",
        "\n",
        "總共有 50 位畫家，意謂著有 50 個 class 要去辨識。"
      ]
    },
    {
      "cell_type": "markdown",
      "source": [
        "🚩解壓縮封包"
      ],
      "metadata": {
        "id": "08tJUe6EUcXD"
      }
    },
    {
      "cell_type": "code",
      "source": [
        "import zipfile\n",
        "\n",
        "test_file='/content/drive/MyDrive/Machine_Learning/test.zip'\n",
        "ZIP = zipfile.ZipFile(test_file)\n",
        "ZIP.extractall()\n",
        "ZIP.close()\n",
        "\n",
        "train_file='/content/drive/MyDrive/Machine_Learning/train.zip'\n",
        "ZIP = zipfile.ZipFile(train_file)\n",
        "ZIP.extractall()\n",
        "ZIP.close()"
      ],
      "metadata": {
        "id": "jpVwSZo-Uess"
      },
      "execution_count": 4,
      "outputs": []
    },
    {
      "cell_type": "code",
      "metadata": {
        "colab": {
          "base_uri": "https://localhost:8080/",
          "height": 354
        },
        "id": "XY7xp_fdEHvl",
        "outputId": "52228bf1-b8b7-4f29-d856-856f4fee63e7"
      },
      "source": [
        "train_dir = \"./train_resized/\"\n",
        "test_dir = \"./test_resized/\"\n",
        "artists = pd.read_csv(\"./artists.csv\")\n",
        "num_classes = artists.shape[0]\n",
        "print(\"Number of artists : \", num_classes)\n",
        "artists.head()"
      ],
      "execution_count": 5,
      "outputs": [
        {
          "output_type": "stream",
          "name": "stdout",
          "text": [
            "Number of artists :  50\n"
          ]
        },
        {
          "output_type": "execute_result",
          "data": {
            "text/plain": [
              "   id                name        years                         genre  \\\n",
              "0   0   Amedeo Modigliani  1884 - 1920                 Expressionism   \n",
              "1   1  Vasiliy Kandinskiy  1866 - 1944  Expressionism,Abstractionism   \n",
              "2   2        Diego Rivera  1886 - 1957       Social Realism,Muralism   \n",
              "3   3        Claude Monet  1840 - 1926                 Impressionism   \n",
              "4   4       Rene Magritte  1898 - 1967      Surrealism,Impressionism   \n",
              "\n",
              "  nationality                                                bio  \\\n",
              "0     Italian  Amedeo Clemente Modigliani (Italian pronunciat...   \n",
              "1     Russian  Wassily Wassilyevich Kandinsky (Russian: ?а?и?...   \n",
              "2     Mexican  Diego María de la Concepción Juan Nepomuceno E...   \n",
              "3      French  Oscar-Claude Monet (; French: [klod m?n?]; 14 ...   \n",
              "4     Belgian  René François Ghislain Magritte (French: [??ne...   \n",
              "\n",
              "                                        wikipedia  paintings  \n",
              "0  http://en.wikipedia.org/wiki/Amedeo_Modigliani        193  \n",
              "1  http://en.wikipedia.org/wiki/Wassily_Kandinsky         88  \n",
              "2       http://en.wikipedia.org/wiki/Diego_Rivera         70  \n",
              "3       http://en.wikipedia.org/wiki/Claude_Monet         73  \n",
              "4      http://en.wikipedia.org/wiki/René_Magritte        194  "
            ],
            "text/html": [
              "\n",
              "\n",
              "  <div id=\"df-7ce7e49a-5edb-4911-87d3-82e435643abf\">\n",
              "    <div class=\"colab-df-container\">\n",
              "      <div>\n",
              "<style scoped>\n",
              "    .dataframe tbody tr th:only-of-type {\n",
              "        vertical-align: middle;\n",
              "    }\n",
              "\n",
              "    .dataframe tbody tr th {\n",
              "        vertical-align: top;\n",
              "    }\n",
              "\n",
              "    .dataframe thead th {\n",
              "        text-align: right;\n",
              "    }\n",
              "</style>\n",
              "<table border=\"1\" class=\"dataframe\">\n",
              "  <thead>\n",
              "    <tr style=\"text-align: right;\">\n",
              "      <th></th>\n",
              "      <th>id</th>\n",
              "      <th>name</th>\n",
              "      <th>years</th>\n",
              "      <th>genre</th>\n",
              "      <th>nationality</th>\n",
              "      <th>bio</th>\n",
              "      <th>wikipedia</th>\n",
              "      <th>paintings</th>\n",
              "    </tr>\n",
              "  </thead>\n",
              "  <tbody>\n",
              "    <tr>\n",
              "      <th>0</th>\n",
              "      <td>0</td>\n",
              "      <td>Amedeo Modigliani</td>\n",
              "      <td>1884 - 1920</td>\n",
              "      <td>Expressionism</td>\n",
              "      <td>Italian</td>\n",
              "      <td>Amedeo Clemente Modigliani (Italian pronunciat...</td>\n",
              "      <td>http://en.wikipedia.org/wiki/Amedeo_Modigliani</td>\n",
              "      <td>193</td>\n",
              "    </tr>\n",
              "    <tr>\n",
              "      <th>1</th>\n",
              "      <td>1</td>\n",
              "      <td>Vasiliy Kandinskiy</td>\n",
              "      <td>1866 - 1944</td>\n",
              "      <td>Expressionism,Abstractionism</td>\n",
              "      <td>Russian</td>\n",
              "      <td>Wassily Wassilyevich Kandinsky (Russian: ?а?и?...</td>\n",
              "      <td>http://en.wikipedia.org/wiki/Wassily_Kandinsky</td>\n",
              "      <td>88</td>\n",
              "    </tr>\n",
              "    <tr>\n",
              "      <th>2</th>\n",
              "      <td>2</td>\n",
              "      <td>Diego Rivera</td>\n",
              "      <td>1886 - 1957</td>\n",
              "      <td>Social Realism,Muralism</td>\n",
              "      <td>Mexican</td>\n",
              "      <td>Diego María de la Concepción Juan Nepomuceno E...</td>\n",
              "      <td>http://en.wikipedia.org/wiki/Diego_Rivera</td>\n",
              "      <td>70</td>\n",
              "    </tr>\n",
              "    <tr>\n",
              "      <th>3</th>\n",
              "      <td>3</td>\n",
              "      <td>Claude Monet</td>\n",
              "      <td>1840 - 1926</td>\n",
              "      <td>Impressionism</td>\n",
              "      <td>French</td>\n",
              "      <td>Oscar-Claude Monet (; French: [klod m?n?]; 14 ...</td>\n",
              "      <td>http://en.wikipedia.org/wiki/Claude_Monet</td>\n",
              "      <td>73</td>\n",
              "    </tr>\n",
              "    <tr>\n",
              "      <th>4</th>\n",
              "      <td>4</td>\n",
              "      <td>Rene Magritte</td>\n",
              "      <td>1898 - 1967</td>\n",
              "      <td>Surrealism,Impressionism</td>\n",
              "      <td>Belgian</td>\n",
              "      <td>René François Ghislain Magritte (French: [??ne...</td>\n",
              "      <td>http://en.wikipedia.org/wiki/René_Magritte</td>\n",
              "      <td>194</td>\n",
              "    </tr>\n",
              "  </tbody>\n",
              "</table>\n",
              "</div>\n",
              "      <button class=\"colab-df-convert\" onclick=\"convertToInteractive('df-7ce7e49a-5edb-4911-87d3-82e435643abf')\"\n",
              "              title=\"Convert this dataframe to an interactive table.\"\n",
              "              style=\"display:none;\">\n",
              "\n",
              "  <svg xmlns=\"http://www.w3.org/2000/svg\" height=\"24px\"viewBox=\"0 0 24 24\"\n",
              "       width=\"24px\">\n",
              "    <path d=\"M0 0h24v24H0V0z\" fill=\"none\"/>\n",
              "    <path d=\"M18.56 5.44l.94 2.06.94-2.06 2.06-.94-2.06-.94-.94-2.06-.94 2.06-2.06.94zm-11 1L8.5 8.5l.94-2.06 2.06-.94-2.06-.94L8.5 2.5l-.94 2.06-2.06.94zm10 10l.94 2.06.94-2.06 2.06-.94-2.06-.94-.94-2.06-.94 2.06-2.06.94z\"/><path d=\"M17.41 7.96l-1.37-1.37c-.4-.4-.92-.59-1.43-.59-.52 0-1.04.2-1.43.59L10.3 9.45l-7.72 7.72c-.78.78-.78 2.05 0 2.83L4 21.41c.39.39.9.59 1.41.59.51 0 1.02-.2 1.41-.59l7.78-7.78 2.81-2.81c.8-.78.8-2.07 0-2.86zM5.41 20L4 18.59l7.72-7.72 1.47 1.35L5.41 20z\"/>\n",
              "  </svg>\n",
              "      </button>\n",
              "\n",
              "\n",
              "\n",
              "    <div id=\"df-202fe036-5f41-4cc5-b4ba-ff95c68d63be\">\n",
              "      <button class=\"colab-df-quickchart\" onclick=\"quickchart('df-202fe036-5f41-4cc5-b4ba-ff95c68d63be')\"\n",
              "              title=\"Suggest charts.\"\n",
              "              style=\"display:none;\">\n",
              "\n",
              "<svg xmlns=\"http://www.w3.org/2000/svg\" height=\"24px\"viewBox=\"0 0 24 24\"\n",
              "     width=\"24px\">\n",
              "    <g>\n",
              "        <path d=\"M19 3H5c-1.1 0-2 .9-2 2v14c0 1.1.9 2 2 2h14c1.1 0 2-.9 2-2V5c0-1.1-.9-2-2-2zM9 17H7v-7h2v7zm4 0h-2V7h2v10zm4 0h-2v-4h2v4z\"/>\n",
              "    </g>\n",
              "</svg>\n",
              "      </button>\n",
              "    </div>\n",
              "\n",
              "<style>\n",
              "  .colab-df-quickchart {\n",
              "    background-color: #E8F0FE;\n",
              "    border: none;\n",
              "    border-radius: 50%;\n",
              "    cursor: pointer;\n",
              "    display: none;\n",
              "    fill: #1967D2;\n",
              "    height: 32px;\n",
              "    padding: 0 0 0 0;\n",
              "    width: 32px;\n",
              "  }\n",
              "\n",
              "  .colab-df-quickchart:hover {\n",
              "    background-color: #E2EBFA;\n",
              "    box-shadow: 0px 1px 2px rgba(60, 64, 67, 0.3), 0px 1px 3px 1px rgba(60, 64, 67, 0.15);\n",
              "    fill: #174EA6;\n",
              "  }\n",
              "\n",
              "  [theme=dark] .colab-df-quickchart {\n",
              "    background-color: #3B4455;\n",
              "    fill: #D2E3FC;\n",
              "  }\n",
              "\n",
              "  [theme=dark] .colab-df-quickchart:hover {\n",
              "    background-color: #434B5C;\n",
              "    box-shadow: 0px 1px 3px 1px rgba(0, 0, 0, 0.15);\n",
              "    filter: drop-shadow(0px 1px 2px rgba(0, 0, 0, 0.3));\n",
              "    fill: #FFFFFF;\n",
              "  }\n",
              "</style>\n",
              "\n",
              "    <script>\n",
              "      async function quickchart(key) {\n",
              "        const containerElement = document.querySelector('#' + key);\n",
              "        const charts = await google.colab.kernel.invokeFunction(\n",
              "            'suggestCharts', [key], {});\n",
              "      }\n",
              "    </script>\n",
              "\n",
              "      <script>\n",
              "\n",
              "function displayQuickchartButton(domScope) {\n",
              "  let quickchartButtonEl =\n",
              "    domScope.querySelector('#df-202fe036-5f41-4cc5-b4ba-ff95c68d63be button.colab-df-quickchart');\n",
              "  quickchartButtonEl.style.display =\n",
              "    google.colab.kernel.accessAllowed ? 'block' : 'none';\n",
              "}\n",
              "\n",
              "        displayQuickchartButton(document);\n",
              "      </script>\n",
              "      <style>\n",
              "    .colab-df-container {\n",
              "      display:flex;\n",
              "      flex-wrap:wrap;\n",
              "      gap: 12px;\n",
              "    }\n",
              "\n",
              "    .colab-df-convert {\n",
              "      background-color: #E8F0FE;\n",
              "      border: none;\n",
              "      border-radius: 50%;\n",
              "      cursor: pointer;\n",
              "      display: none;\n",
              "      fill: #1967D2;\n",
              "      height: 32px;\n",
              "      padding: 0 0 0 0;\n",
              "      width: 32px;\n",
              "    }\n",
              "\n",
              "    .colab-df-convert:hover {\n",
              "      background-color: #E2EBFA;\n",
              "      box-shadow: 0px 1px 2px rgba(60, 64, 67, 0.3), 0px 1px 3px 1px rgba(60, 64, 67, 0.15);\n",
              "      fill: #174EA6;\n",
              "    }\n",
              "\n",
              "    [theme=dark] .colab-df-convert {\n",
              "      background-color: #3B4455;\n",
              "      fill: #D2E3FC;\n",
              "    }\n",
              "\n",
              "    [theme=dark] .colab-df-convert:hover {\n",
              "      background-color: #434B5C;\n",
              "      box-shadow: 0px 1px 3px 1px rgba(0, 0, 0, 0.15);\n",
              "      filter: drop-shadow(0px 1px 2px rgba(0, 0, 0, 0.3));\n",
              "      fill: #FFFFFF;\n",
              "    }\n",
              "  </style>\n",
              "\n",
              "      <script>\n",
              "        const buttonEl =\n",
              "          document.querySelector('#df-7ce7e49a-5edb-4911-87d3-82e435643abf button.colab-df-convert');\n",
              "        buttonEl.style.display =\n",
              "          google.colab.kernel.accessAllowed ? 'block' : 'none';\n",
              "\n",
              "        async function convertToInteractive(key) {\n",
              "          const element = document.querySelector('#df-7ce7e49a-5edb-4911-87d3-82e435643abf');\n",
              "          const dataTable =\n",
              "            await google.colab.kernel.invokeFunction('convertToInteractive',\n",
              "                                                     [key], {});\n",
              "          if (!dataTable) return;\n",
              "\n",
              "          const docLinkHtml = 'Like what you see? Visit the ' +\n",
              "            '<a target=\"_blank\" href=https://colab.research.google.com/notebooks/data_table.ipynb>data table notebook</a>'\n",
              "            + ' to learn more about interactive tables.';\n",
              "          element.innerHTML = '';\n",
              "          dataTable['output_type'] = 'display_data';\n",
              "          await google.colab.output.renderOutput(dataTable, element);\n",
              "          const docLink = document.createElement('div');\n",
              "          docLink.innerHTML = docLinkHtml;\n",
              "          element.appendChild(docLink);\n",
              "        }\n",
              "      </script>\n",
              "    </div>\n",
              "  </div>\n"
            ]
          },
          "metadata": {},
          "execution_count": 5
        }
      ]
    },
    {
      "cell_type": "markdown",
      "metadata": {
        "id": "dcCRu1uYEoJJ"
      },
      "source": [
        "* 只取出名字與畫的數量，把名字用下底線連起來"
      ]
    },
    {
      "cell_type": "code",
      "metadata": {
        "colab": {
          "base_uri": "https://localhost:8080/",
          "height": 206
        },
        "id": "_6kqbJv5EpHt",
        "outputId": "24f1a8e9-dd8f-4574-cef2-3a0007a56b0a"
      },
      "source": [
        "artists = artists.loc[:, [\"name\", \"paintings\"]]\n",
        "artists[\"name\"] = artists[\"name\"].str.split(\" \").apply(lambda parts: \"_\".join(parts))\n",
        "artists.head()"
      ],
      "execution_count": 6,
      "outputs": [
        {
          "output_type": "execute_result",
          "data": {
            "text/plain": [
              "                 name  paintings\n",
              "0   Amedeo_Modigliani        193\n",
              "1  Vasiliy_Kandinskiy         88\n",
              "2        Diego_Rivera         70\n",
              "3        Claude_Monet         73\n",
              "4       Rene_Magritte        194"
            ],
            "text/html": [
              "\n",
              "\n",
              "  <div id=\"df-f526e2f8-189e-4979-8ef7-779262e6d658\">\n",
              "    <div class=\"colab-df-container\">\n",
              "      <div>\n",
              "<style scoped>\n",
              "    .dataframe tbody tr th:only-of-type {\n",
              "        vertical-align: middle;\n",
              "    }\n",
              "\n",
              "    .dataframe tbody tr th {\n",
              "        vertical-align: top;\n",
              "    }\n",
              "\n",
              "    .dataframe thead th {\n",
              "        text-align: right;\n",
              "    }\n",
              "</style>\n",
              "<table border=\"1\" class=\"dataframe\">\n",
              "  <thead>\n",
              "    <tr style=\"text-align: right;\">\n",
              "      <th></th>\n",
              "      <th>name</th>\n",
              "      <th>paintings</th>\n",
              "    </tr>\n",
              "  </thead>\n",
              "  <tbody>\n",
              "    <tr>\n",
              "      <th>0</th>\n",
              "      <td>Amedeo_Modigliani</td>\n",
              "      <td>193</td>\n",
              "    </tr>\n",
              "    <tr>\n",
              "      <th>1</th>\n",
              "      <td>Vasiliy_Kandinskiy</td>\n",
              "      <td>88</td>\n",
              "    </tr>\n",
              "    <tr>\n",
              "      <th>2</th>\n",
              "      <td>Diego_Rivera</td>\n",
              "      <td>70</td>\n",
              "    </tr>\n",
              "    <tr>\n",
              "      <th>3</th>\n",
              "      <td>Claude_Monet</td>\n",
              "      <td>73</td>\n",
              "    </tr>\n",
              "    <tr>\n",
              "      <th>4</th>\n",
              "      <td>Rene_Magritte</td>\n",
              "      <td>194</td>\n",
              "    </tr>\n",
              "  </tbody>\n",
              "</table>\n",
              "</div>\n",
              "      <button class=\"colab-df-convert\" onclick=\"convertToInteractive('df-f526e2f8-189e-4979-8ef7-779262e6d658')\"\n",
              "              title=\"Convert this dataframe to an interactive table.\"\n",
              "              style=\"display:none;\">\n",
              "\n",
              "  <svg xmlns=\"http://www.w3.org/2000/svg\" height=\"24px\"viewBox=\"0 0 24 24\"\n",
              "       width=\"24px\">\n",
              "    <path d=\"M0 0h24v24H0V0z\" fill=\"none\"/>\n",
              "    <path d=\"M18.56 5.44l.94 2.06.94-2.06 2.06-.94-2.06-.94-.94-2.06-.94 2.06-2.06.94zm-11 1L8.5 8.5l.94-2.06 2.06-.94-2.06-.94L8.5 2.5l-.94 2.06-2.06.94zm10 10l.94 2.06.94-2.06 2.06-.94-2.06-.94-.94-2.06-.94 2.06-2.06.94z\"/><path d=\"M17.41 7.96l-1.37-1.37c-.4-.4-.92-.59-1.43-.59-.52 0-1.04.2-1.43.59L10.3 9.45l-7.72 7.72c-.78.78-.78 2.05 0 2.83L4 21.41c.39.39.9.59 1.41.59.51 0 1.02-.2 1.41-.59l7.78-7.78 2.81-2.81c.8-.78.8-2.07 0-2.86zM5.41 20L4 18.59l7.72-7.72 1.47 1.35L5.41 20z\"/>\n",
              "  </svg>\n",
              "      </button>\n",
              "\n",
              "\n",
              "\n",
              "    <div id=\"df-c1e80f27-2e60-4020-bad8-b94a2dd867be\">\n",
              "      <button class=\"colab-df-quickchart\" onclick=\"quickchart('df-c1e80f27-2e60-4020-bad8-b94a2dd867be')\"\n",
              "              title=\"Suggest charts.\"\n",
              "              style=\"display:none;\">\n",
              "\n",
              "<svg xmlns=\"http://www.w3.org/2000/svg\" height=\"24px\"viewBox=\"0 0 24 24\"\n",
              "     width=\"24px\">\n",
              "    <g>\n",
              "        <path d=\"M19 3H5c-1.1 0-2 .9-2 2v14c0 1.1.9 2 2 2h14c1.1 0 2-.9 2-2V5c0-1.1-.9-2-2-2zM9 17H7v-7h2v7zm4 0h-2V7h2v10zm4 0h-2v-4h2v4z\"/>\n",
              "    </g>\n",
              "</svg>\n",
              "      </button>\n",
              "    </div>\n",
              "\n",
              "<style>\n",
              "  .colab-df-quickchart {\n",
              "    background-color: #E8F0FE;\n",
              "    border: none;\n",
              "    border-radius: 50%;\n",
              "    cursor: pointer;\n",
              "    display: none;\n",
              "    fill: #1967D2;\n",
              "    height: 32px;\n",
              "    padding: 0 0 0 0;\n",
              "    width: 32px;\n",
              "  }\n",
              "\n",
              "  .colab-df-quickchart:hover {\n",
              "    background-color: #E2EBFA;\n",
              "    box-shadow: 0px 1px 2px rgba(60, 64, 67, 0.3), 0px 1px 3px 1px rgba(60, 64, 67, 0.15);\n",
              "    fill: #174EA6;\n",
              "  }\n",
              "\n",
              "  [theme=dark] .colab-df-quickchart {\n",
              "    background-color: #3B4455;\n",
              "    fill: #D2E3FC;\n",
              "  }\n",
              "\n",
              "  [theme=dark] .colab-df-quickchart:hover {\n",
              "    background-color: #434B5C;\n",
              "    box-shadow: 0px 1px 3px 1px rgba(0, 0, 0, 0.15);\n",
              "    filter: drop-shadow(0px 1px 2px rgba(0, 0, 0, 0.3));\n",
              "    fill: #FFFFFF;\n",
              "  }\n",
              "</style>\n",
              "\n",
              "    <script>\n",
              "      async function quickchart(key) {\n",
              "        const containerElement = document.querySelector('#' + key);\n",
              "        const charts = await google.colab.kernel.invokeFunction(\n",
              "            'suggestCharts', [key], {});\n",
              "      }\n",
              "    </script>\n",
              "\n",
              "      <script>\n",
              "\n",
              "function displayQuickchartButton(domScope) {\n",
              "  let quickchartButtonEl =\n",
              "    domScope.querySelector('#df-c1e80f27-2e60-4020-bad8-b94a2dd867be button.colab-df-quickchart');\n",
              "  quickchartButtonEl.style.display =\n",
              "    google.colab.kernel.accessAllowed ? 'block' : 'none';\n",
              "}\n",
              "\n",
              "        displayQuickchartButton(document);\n",
              "      </script>\n",
              "      <style>\n",
              "    .colab-df-container {\n",
              "      display:flex;\n",
              "      flex-wrap:wrap;\n",
              "      gap: 12px;\n",
              "    }\n",
              "\n",
              "    .colab-df-convert {\n",
              "      background-color: #E8F0FE;\n",
              "      border: none;\n",
              "      border-radius: 50%;\n",
              "      cursor: pointer;\n",
              "      display: none;\n",
              "      fill: #1967D2;\n",
              "      height: 32px;\n",
              "      padding: 0 0 0 0;\n",
              "      width: 32px;\n",
              "    }\n",
              "\n",
              "    .colab-df-convert:hover {\n",
              "      background-color: #E2EBFA;\n",
              "      box-shadow: 0px 1px 2px rgba(60, 64, 67, 0.3), 0px 1px 3px 1px rgba(60, 64, 67, 0.15);\n",
              "      fill: #174EA6;\n",
              "    }\n",
              "\n",
              "    [theme=dark] .colab-df-convert {\n",
              "      background-color: #3B4455;\n",
              "      fill: #D2E3FC;\n",
              "    }\n",
              "\n",
              "    [theme=dark] .colab-df-convert:hover {\n",
              "      background-color: #434B5C;\n",
              "      box-shadow: 0px 1px 3px 1px rgba(0, 0, 0, 0.15);\n",
              "      filter: drop-shadow(0px 1px 2px rgba(0, 0, 0, 0.3));\n",
              "      fill: #FFFFFF;\n",
              "    }\n",
              "  </style>\n",
              "\n",
              "      <script>\n",
              "        const buttonEl =\n",
              "          document.querySelector('#df-f526e2f8-189e-4979-8ef7-779262e6d658 button.colab-df-convert');\n",
              "        buttonEl.style.display =\n",
              "          google.colab.kernel.accessAllowed ? 'block' : 'none';\n",
              "\n",
              "        async function convertToInteractive(key) {\n",
              "          const element = document.querySelector('#df-f526e2f8-189e-4979-8ef7-779262e6d658');\n",
              "          const dataTable =\n",
              "            await google.colab.kernel.invokeFunction('convertToInteractive',\n",
              "                                                     [key], {});\n",
              "          if (!dataTable) return;\n",
              "\n",
              "          const docLinkHtml = 'Like what you see? Visit the ' +\n",
              "            '<a target=\"_blank\" href=https://colab.research.google.com/notebooks/data_table.ipynb>data table notebook</a>'\n",
              "            + ' to learn more about interactive tables.';\n",
              "          element.innerHTML = '';\n",
              "          dataTable['output_type'] = 'display_data';\n",
              "          await google.colab.output.renderOutput(dataTable, element);\n",
              "          const docLink = document.createElement('div');\n",
              "          docLink.innerHTML = docLinkHtml;\n",
              "          element.appendChild(docLink);\n",
              "        }\n",
              "      </script>\n",
              "    </div>\n",
              "  </div>\n"
            ]
          },
          "metadata": {},
          "execution_count": 6
        }
      ]
    },
    {
      "cell_type": "markdown",
      "metadata": {
        "id": "l4FZw5qgEsFA"
      },
      "source": [
        "* **計算各個畫家畫作數量**\n",
        "* 每個 class 資料的不平衡容易影響模型的訓練，學生可以嘗試解決這個問題。(提示: keras 的 class_weight)"
      ]
    },
    {
      "cell_type": "code",
      "metadata": {
        "id": "Hmbgj-SeEsk-",
        "colab": {
          "base_uri": "https://localhost:8080/",
          "height": 749
        },
        "outputId": "6ef4598e-f989-45a8-8f34-d55c97ec85af"
      },
      "source": [
        "%matplotlib inline\n",
        "plt.figure(figsize=(10, 6))\n",
        "data = pd.DataFrame({'Name': artists.name, 'Paintings': artists.paintings})\n",
        "barplot = sns.barplot(data=data, x='Name', y='Paintings')\n",
        "for item in barplot.get_xticklabels():\n",
        "    item.set_rotation(90)\n",
        "\n",
        "plt.show()\n",
        "\n",
        "print(\"可以看到每個畫家之間的畫作數量很不平均，這可能會影響到模型的訓練。\")\n",
        "print(\"最多畫作為:\", artists.paintings.max(), \"最少畫作為:\", artists.paintings.min())"
      ],
      "execution_count": 7,
      "outputs": [
        {
          "output_type": "display_data",
          "data": {
            "text/plain": [
              "<Figure size 1000x600 with 1 Axes>"
            ],
            "image/png": "[encoded data removed]"
          },
          "metadata": {}
        },
        {
          "output_type": "stream",
          "name": "stdout",
          "text": [
            "可以看到每個畫家之間的畫作數量很不平均，這可能會影響到模型的訓練。\n",
            "最多畫作為: 877 最少畫作為: 24\n"
          ]
        }
      ]
    },
    {
      "cell_type": "markdown",
      "metadata": {
        "id": "AUemTT_EEwHN"
      },
      "source": [
        "* 隨機讀取畫作來看看"
      ]
    },
    {
      "cell_type": "code",
      "metadata": {
        "id": "a5dgoUYmExLg",
        "colab": {
          "base_uri": "https://localhost:8080/"
        },
        "outputId": "085e014a-a5dd-41d4-e511-556582cbd5a3"
      },
      "source": [
        "img_list = os.listdir(train_dir)\n",
        "total_len = len(img_list)\n",
        "random_list = random.sample(range(0, total_len), 20)\n",
        "print(\"training 畫作總共畫作有 : \", total_len)\n",
        "\n",
        "# show_imgs = [img_list[rand] for rand in random_list]\n",
        "\n",
        "# plt.figure(figsize=(16, 16))\n",
        "# for index, imgName in enumerate(show_imgs):\n",
        "#     img_path = train_dir + imgName\n",
        "#     img = cv.imread(img_path)\n",
        "#     img = cv.cvtColor(img, cv.COLOR_BGR2RGB)\n",
        "#     plt.subplot(4, 5, index + 1)\n",
        "#     plt.imshow(img)\n",
        "#     plt.axis(\"off\")\n",
        "#     plt.title(\"_\".join(imgName.split(\"_\")[:-1]))"
      ],
      "execution_count": 8,
      "outputs": [
        {
          "output_type": "stream",
          "name": "stdout",
          "text": [
            "training 畫作總共畫作有 :  7520\n"
          ]
        }
      ]
    },
    {
      "cell_type": "markdown",
      "metadata": {
        "id": "3CyipjH7E2ed"
      },
      "source": [
        "## 3. 資料前處理\n",
        "\n",
        "**有幾個重要的點需要處理**\n",
        "1. 我們現在只有各個畫的路徑。Ex: /content/train_resized/Claude_Monet_22.jpg 。要取出 label : Claude_Monet\n",
        "2. label (作者名稱)是英文，我們要先把英文映射成數字。EX: Van_Gogh --> 0 ; Edvard_Munch --> 1\n",
        "3. label 數字還要轉成 50 depth 的 one_hot\n",
        "4. 現在有畫的路徑了，要讀取圖片\n",
        "5. 每張圖片的大小不一樣，要統一大小才能輸入模型\n",
        "6. 把每張圖片正規化，映射到 [0,1] 之間\n",
        "7. 路徑是按照作者名稱排列的，太整齊了，把資料集打散(shuffle)。\n",
        "8. 如果有需要，拆分成訓練用資料(training_data)、驗證用(validation_data)\n",
        "9. **重要!** 確定好你資料 input output 的維度，才能開始建立模型。EX: input:(256,256,3); output:(50,)\n",
        "\n",
        "**助教推薦一個好用的工具** from_tensor_slices [參考](https://www.tensorflow.org/api_docs/python/tf/data/Dataset)\n",
        "\n",
        "* from_tensor_slices 可以輕鬆的讀取想要的資料，把圖片路徑傳入 tensor 後用 map 將路徑轉成圖片檔案。\n",
        "\n",
        "* **以下程式 todo 只是提供程式思路，你完全可以不理他，反正 test 結果能出來就好。**"
      ]
    },
    {
      "cell_type": "code",
      "metadata": {
        "id": "77HFt6cJHoDP"
      },
      "source": [
        "# 請建立將英文映射成數字的 dict。EX: Van_Gogh --> 0\n",
        "def make_author_dict():\n",
        "  ##########\n",
        "  # todo #\n",
        "  ##########\n",
        "  img_dict = {}\n",
        "  index = 0\n",
        "  for img_name in img_list:\n",
        "    img_name_list = img_name.split(\"_\")[:-1]\n",
        "    img_name = \"_\".join(img_name_list)\n",
        "    if img_name not in img_dict:\n",
        "      img_dict[img_name] = index\n",
        "      index+=1\n",
        "  return img_dict\n",
        "\n",
        "\n",
        "class_name = make_author_dict()\n",
        "\n",
        "# 請建立將數字映射成英文的 dict。 EX: 0 --> Van_Gogh\n",
        "rev_class_name = {value: key for key, value in class_name.items()}"
      ],
      "execution_count": 9,
      "outputs": []
    },
    {
      "cell_type": "code",
      "metadata": {
        "id": "I7PPtF2nE3g7"
      },
      "source": [
        "def get_label(pic_name):\n",
        "    # 請取出 label 並轉成數字\n",
        "    # EX: Claude_Monet_1.jpg -> Claude_Monet -> 1\n",
        "    ##########\n",
        "    # todo #\n",
        "    ##########\n",
        "    pic_name_list = pic_name.split(\"_\")[:-1]\n",
        "    pic_name = \"_\".join(pic_name_list)\n",
        "\n",
        "    return class_name[pic_name]\n",
        "\n",
        "def get_path(dir, pic_name):\n",
        "    # 請將路徑合併\n",
        "    # EX: ./train_resized/ + Claude_Monet_1.jpg => ./train_resized/Claude_Monet_1.jpg\n",
        "    ##########\n",
        "    # todo #\n",
        "    ##########\n",
        "    return dir + pic_name\n",
        "\n",
        "def make_paths_label(dir):\n",
        "    img_list = os.listdir(dir)\n",
        "    paths = []\n",
        "    labels = []\n",
        "\n",
        "    # 將preprocess完成的 path、label 用 for 迴圈放入 paths 和 labels\n",
        "    ##########\n",
        "    # todo #\n",
        "    ##########\n",
        "    for img_name in img_list:\n",
        "      paths.append(get_path(dir, img_name))\n",
        "      labels.append(get_label(img_name))\n",
        "\n",
        "    # 將 labels 轉成 onehot\n",
        "    # todo\n",
        "    num_classes = len(class_name)\n",
        "    onehot_labels = keras.utils.to_categorical(labels, num_classes)\n",
        "    return paths, onehot_labels"
      ],
      "execution_count": 10,
      "outputs": []
    },
    {
      "cell_type": "code",
      "metadata": {
        "id": "VHXxnnHdIzlX",
        "colab": {
          "base_uri": "https://localhost:8080/"
        },
        "outputId": "5901bbfc-c992-449d-a14f-2c20c42cdf17"
      },
      "source": [
        "# 來查看一下\n",
        "paths, onehot_labels = make_paths_label(train_dir)\n",
        "\n",
        "labelForBalance = onehot_labels\n",
        "labelForBalance = np.argmax(labelForBalance, axis=1)\n",
        "print(\"paths : \")\n",
        "for p in paths[21:26]:\n",
        "    print(p)\n",
        "print(\"-\" * 20)\n",
        "print(\"labels : \")\n",
        "for label in onehot_labels[21:26]:\n",
        "  print(label)"
      ],
      "execution_count": 11,
      "outputs": [
        {
          "output_type": "stream",
          "name": "stdout",
          "text": [
            "paths : \n",
            "./train_resized/Salvador_Dali_7.jpg\n",
            "./train_resized/Henri_Matisse_135.jpg\n",
            "./train_resized/Rene_Magritte_125.jpg\n",
            "./train_resized/Henri_Matisse_93.jpg\n",
            "./train_resized/Edgar_Degas_280.jpg\n",
            "--------------------\n",
            "labels : \n",
            "[0. 0. 0. 0. 0. 0. 0. 0. 0. 0. 0. 1. 0. 0. 0. 0. 0. 0. 0. 0. 0. 0. 0. 0.\n",
            " 0. 0. 0. 0. 0. 0. 0. 0. 0. 0. 0. 0. 0. 0. 0. 0. 0. 0. 0. 0. 0. 0. 0. 0.\n",
            " 0. 0.]\n",
            "[0. 0. 0. 0. 0. 0. 0. 0. 0. 0. 0. 0. 0. 0. 0. 1. 0. 0. 0. 0. 0. 0. 0. 0.\n",
            " 0. 0. 0. 0. 0. 0. 0. 0. 0. 0. 0. 0. 0. 0. 0. 0. 0. 0. 0. 0. 0. 0. 0. 0.\n",
            " 0. 0.]\n",
            "[0. 0. 0. 0. 0. 0. 0. 0. 0. 0. 0. 0. 0. 0. 0. 0. 1. 0. 0. 0. 0. 0. 0. 0.\n",
            " 0. 0. 0. 0. 0. 0. 0. 0. 0. 0. 0. 0. 0. 0. 0. 0. 0. 0. 0. 0. 0. 0. 0. 0.\n",
            " 0. 0.]\n",
            "[0. 0. 0. 0. 0. 0. 0. 0. 0. 0. 0. 0. 0. 0. 0. 1. 0. 0. 0. 0. 0. 0. 0. 0.\n",
            " 0. 0. 0. 0. 0. 0. 0. 0. 0. 0. 0. 0. 0. 0. 0. 0. 0. 0. 0. 0. 0. 0. 0. 0.\n",
            " 0. 0.]\n",
            "[0. 0. 0. 0. 0. 1. 0. 0. 0. 0. 0. 0. 0. 0. 0. 0. 0. 0. 0. 0. 0. 0. 0. 0.\n",
            " 0. 0. 0. 0. 0. 0. 0. 0. 0. 0. 0. 0. 0. 0. 0. 0. 0. 0. 0. 0. 0. 0. 0. 0.\n",
            " 0. 0.]\n"
          ]
        }
      ]
    },
    {
      "cell_type": "markdown",
      "metadata": {
        "id": "zrSjvXIJgcYw"
      },
      "source": [
        "* 目標輸出\n",
        "\n",
        "![](https://i.imgur.com/CSzFlZ2.png)"
      ]
    },
    {
      "cell_type": "code",
      "source": [
        "class_weights = class_weight.compute_class_weight(class_weight='balanced', classes=np.unique(labelForBalance), y=labelForBalance)\n",
        "class_weights_dict = dict(enumerate(class_weights))\n",
        "print(class_weights_dict)"
      ],
      "metadata": {
        "colab": {
          "base_uri": "https://localhost:8080/"
        },
        "id": "eRwVnkjHpAnk",
        "outputId": "a0d46e4d-0f14-4f37-b95b-732891a7b193"
      },
      "execution_count": 12,
      "outputs": [
        {
          "output_type": "stream",
          "name": "stdout",
          "text": [
            "{0: 1.9789473684210526, 1: 0.49473684210526314, 2: 1.9282051282051282, 3: 0.19406451612903225, 4: 0.5240418118466899, 5: 0.2368503937007874, 6: 4.297142857142857, 7: 1.3192982456140352, 8: 0.3788413098236776, 9: 0.651082251082251, 10: 0.5469090909090909, 11: 1.1223880597014926, 12: 1.0742857142857143, 13: 0.9060240963855422, 14: 0.6654867256637168, 15: 0.8899408284023669, 16: 0.8594285714285714, 17: 1.9532467532467532, 18: 1.5346938775510204, 19: 0.5410071942446043, 20: 2.0602739726027397, 21: 2.211764705882353, 22: 0.9518987341772152, 23: 1.1936507936507936, 24: 0.6567685589519651, 25: 0.7061032863849765, 26: 1.9037974683544303, 27: 1.583157894736842, 28: 3.1333333333333333, 29: 3.76, 30: 2.7345454545454544, 31: 1.9532467532467532, 32: 1.2533333333333334, 33: 1.3428571428571427, 34: 0.8744186046511628, 35: 0.869364161849711, 36: 1.4188679245283018, 37: 1.1393939393939394, 38: 2.4655737704918033, 39: 1.3428571428571427, 40: 1.8341463414634147, 41: 3.4976744186046513, 42: 1.2227642276422763, 43: 1.7488372093023257, 44: 5.013333333333334, 45: 2.7345454545454544, 46: 3.4976744186046513, 47: 2.7345454545454544, 48: 6.836363636363636, 49: 2.425806451612903}\n"
          ]
        }
      ]
    },
    {
      "cell_type": "code",
      "metadata": {
        "id": "qSBcN62rJoi5"
      },
      "source": [
        "# 轉成 tensorflow dataset 格式，變成路徑 tensor\n",
        "# 這個只是 from_tensor_slices 範例\n",
        "# paths_ds = tf.data.Dataset.from_tensor_slices(paths)\n",
        "# train_label = tf.data.Dataset.from_tensor_slices(onehot_labels)\n",
        "\n",
        "\n",
        "# print(\"turn to tensor\")\n",
        "# for tensor in paths_ds.take(5):\n",
        "#     print(tensor)"
      ],
      "execution_count": 13,
      "outputs": []
    },
    {
      "cell_type": "code",
      "metadata": {
        "id": "q5OVFk2LICdh"
      },
      "source": [
        "# 決定你輸入模型的圖片長寬\n",
        "IMG_WIDTH = 150\n",
        "IMG_HEIGHT = 150\n",
        "IMG_SIZE = (IMG_WIDTH, IMG_HEIGHT)\n",
        "# shuffle buffer size\n",
        "TOTAL_SIZE = 7520\n",
        "SHUFFLE_BUFFER = TOTAL_SIZE\n",
        "\n",
        "\n",
        "def get_image(path):\n",
        "    # read image from path\n",
        "    file = tf.io.read_file(path)\n",
        "    img = tf.io.decode_jpeg(file, channels=3)\n",
        "    img = tf.cast(img, tf.float32)\n",
        "\n",
        "    # 請固定每張圖片大小為 IMG_HEIGHT、IMG_WIDTH\n",
        "    # 並將圖片每個 pixel 映射到 [0,1] 之間\n",
        "    ##########\n",
        "    # todo #\n",
        "    ##########\n",
        "    img = tf.image.resize(img, [IMG_HEIGHT, IMG_WIDTH])\n",
        "    return img/255\n",
        "\n",
        "\n",
        "# 將所有資料轉成 Tensor -> Tensor 轉成圖片\n",
        "# 圖片 Tensor 與 label Tensor Zip 起來成一個 pair\n",
        "# shuffle 打散\n",
        "def make_dataset(dir):\n",
        "    paths, onehot_labels = make_paths_label(dir)\n",
        "    paths_ds = tf.data.Dataset.from_tensor_slices(paths)\n",
        "    train_label = tf.data.Dataset.from_tensor_slices(onehot_labels)\n",
        "\n",
        "    # 將路徑 tensor 映射成圖片 tensor\n",
        "    train_image = paths_ds.map(get_image)\n",
        "    # 合併圖片與 label 資料集\n",
        "    full_ds = tf.data.Dataset.zip((train_image, train_label))\n",
        "    # 打散\n",
        "    full_ds = full_ds.shuffle(SHUFFLE_BUFFER, reshuffle_each_iteration=False)\n",
        "    return full_ds\n",
        "\n",
        "\n",
        "full_ds = make_dataset(train_dir)"
      ],
      "execution_count": 14,
      "outputs": []
    },
    {
      "cell_type": "code",
      "metadata": {
        "id": "cDrrAbqBKWr9"
      },
      "source": [
        "# 取出 Tensor 圖片來看看\n",
        "# plt.figure(figsize=(12, 8))\n",
        "# for index, (img, label) in enumerate(full_ds.take(6)):\n",
        "#     l = np.argmax(label.numpy())\n",
        "#     plt.subplot(2, 3, index + 1)\n",
        "#     plt.imshow(img)\n",
        "#     plt.title(\"Label number : {} \\n Author Name : {}\".format(l, rev_class_name[l]))\n",
        "#     plt.axis(\"off\")"
      ],
      "execution_count": 15,
      "outputs": []
    },
    {
      "cell_type": "markdown",
      "metadata": {
        "id": "JOZCmxxq2Xos"
      },
      "source": [
        "* 目標輸出\n",
        "\n",
        "![](https://i.imgur.com/gvwxegB.png)"
      ]
    },
    {
      "cell_type": "code",
      "metadata": {
        "id": "39ce7-MFK8zd",
        "colab": {
          "base_uri": "https://localhost:8080/"
        },
        "outputId": "28affd68-fb1d-4e50-965b-546bdafe1ae5"
      },
      "source": [
        "# 切割成 training data 與 validation data\n",
        "train_len = int(0.8 * total_len)\n",
        "val_len = total_len - train_len\n",
        "\n",
        "train_ds = full_ds.take(train_len)\n",
        "val_ds = full_ds.skip(train_len)\n",
        "\n",
        "\n",
        "print(\"train size : \", train_len, \" val size : \", val_len)\n",
        "\n",
        "# 添加 batch\n",
        "# todo\n",
        "BATCH_SIZE = 64\n",
        "\n",
        "train_ds = train_ds.batch(BATCH_SIZE)\n",
        "val_ds = val_ds.batch(BATCH_SIZE)"
      ],
      "execution_count": 16,
      "outputs": [
        {
          "output_type": "stream",
          "name": "stdout",
          "text": [
            "train size :  6016  val size :  1504\n"
          ]
        }
      ]
    },
    {
      "cell_type": "code",
      "metadata": {
        "id": "vStZv38hbUNl",
        "colab": {
          "base_uri": "https://localhost:8080/"
        },
        "outputId": "ac151080-1832-4a4d-fb73-f05242036a08"
      },
      "source": [
        "# 查看添加batch後的維度\n",
        "trainiter = iter(train_ds)\n",
        "x, y = trainiter.next()\n",
        "print(\"training image batch shape : \", x.shape)\n",
        "print(\"training label batch shape : \", y.shape)"
      ],
      "execution_count": 17,
      "outputs": [
        {
          "output_type": "stream",
          "name": "stdout",
          "text": [
            "training image batch shape :  (64, 150, 150, 3)\n",
            "training label batch shape :  (64, 50)\n"
          ]
        }
      ]
    },
    {
      "cell_type": "markdown",
      "metadata": {
        "id": "K4c9sN28dwtE"
      },
      "source": [
        "## 4. 建立模型\n",
        "\n",
        "發揮你的創意，建立模型。\n",
        "\n",
        "請不要用已有的知名模型做 fine-tuning，**請自己手動建**。"
      ]
    },
    {
      "cell_type": "code",
      "metadata": {
        "id": "PBlrLIlbLK2L",
        "colab": {
          "base_uri": "https://localhost:8080/"
        },
        "outputId": "9eb72d9e-bd5f-4d6c-c6c9-f28e2a258e2a"
      },
      "source": [
        "from tensorflow.keras import regularizers\n",
        "\n",
        "input_shape = (150, 150, 3)\n",
        "\n",
        "# 自訂你的 model\n",
        "##########\n",
        "# todo #\n",
        "##########\n",
        "\n",
        "# model = keras.Sequential(\n",
        "#     [\n",
        "#         keras.Input(shape=input_shape),\n",
        "#         layers.Conv2D(32, kernel_size=(3, 3), activation=\"relu\"),\n",
        "#         layers.MaxPooling2D(pool_size=(2, 2)),\n",
        "\n",
        "#         layers.Conv2D(64, kernel_size=(3, 3), activation=\"relu\"),\n",
        "#         layers.MaxPooling2D(pool_size=(2, 2)),\n",
        "#         # layers.BatchNormalization(),\n",
        "\n",
        "#         layers.Conv2D(128, kernel_size=(3, 3), activation=\"relu\"),\n",
        "#         layers.MaxPooling2D(pool_size=(2, 2)),\n",
        "#         # layers.BatchNormalization(),\n",
        "\n",
        "#         # add another convolution layer\n",
        "#         layers.Conv2D(256, kernel_size=(3, 3), activation=\"relu\"),\n",
        "#         layers.MaxPooling2D(pool_size=(2, 2)),\n",
        "\n",
        "#         layers.Flatten(),\n",
        "#         # increase dense number from 128 to 256\n",
        "#         layers.Dense(128, activation=\"relu\"),\n",
        "\n",
        "#         # drop has been increased from 0.3 to 0.5\n",
        "#         # drop or normalization either one\n",
        "#         # layers.Dropout(0.5),\n",
        "#         layers.BatchNormalization(),\n",
        "\n",
        "#         layers.Dense(num_classes, activation=\"softmax\")\n",
        "#     ]\n",
        "# )\n",
        "\n",
        "model = keras.Sequential(\n",
        "    [\n",
        "        keras.Input(shape=input_shape),\n",
        "        layers.Conv2D(64, kernel_size=(3, 3), activation=\"relu\"),\n",
        "        layers.MaxPooling2D(pool_size=(2, 2)),\n",
        "\n",
        "        layers.Conv2D(128, kernel_size=(3, 3), activation=\"relu\"),\n",
        "        layers.MaxPooling2D(pool_size=(2, 2)),\n",
        "\n",
        "        layers.Conv2D(256, kernel_size=(3, 3), activation=\"relu\"),\n",
        "        layers.MaxPooling2D(pool_size=(2, 2)),\n",
        "\n",
        "        layers.Conv2D(512, kernel_size=(3, 3), activation=\"relu\"),\n",
        "        layers.MaxPooling2D(pool_size=(2, 2)),\n",
        "\n",
        "        layers.Flatten(),\n",
        "        layers.Dense(512, activation=\"relu\"),\n",
        "        layers.Dense(64, activation=\"relu\"),\n",
        "\n",
        "        # drop or normalization either one\n",
        "        # layers.Dropout(0.3),\n",
        "        layers.BatchNormalization(),\n",
        "\n",
        "        layers.Dense(num_classes, activation=\"softmax\")\n",
        "    ]\n",
        ")\n",
        "\n",
        "model.summary()"
      ],
      "execution_count": 18,
      "outputs": [
        {
          "output_type": "stream",
          "name": "stdout",
          "text": [
            "Model: \"sequential\"\n",
            "_________________________________________________________________\n",
            " Layer (type)                Output Shape              Param #   \n",
            "=================================================================\n",
            " conv2d (Conv2D)             (None, 148, 148, 64)      1792      \n",
            "                                                                 \n",
            " max_pooling2d (MaxPooling2D  (None, 74, 74, 64)       0         \n",
            " )                                                               \n",
            "                                                                 \n",
            " conv2d_1 (Conv2D)           (None, 72, 72, 128)       73856     \n",
            "                                                                 \n",
            " max_pooling2d_1 (MaxPooling  (None, 36, 36, 128)      0         \n",
            " 2D)                                                             \n",
            "                                                                 \n",
            " conv2d_2 (Conv2D)           (None, 34, 34, 256)       295168    \n",
            "                                                                 \n",
            " max_pooling2d_2 (MaxPooling  (None, 17, 17, 256)      0         \n",
            " 2D)                                                             \n",
            "                                                                 \n",
            " conv2d_3 (Conv2D)           (None, 15, 15, 512)       1180160   \n",
            "                                                                 \n",
            " max_pooling2d_3 (MaxPooling  (None, 7, 7, 512)        0         \n",
            " 2D)                                                             \n",
            "                                                                 \n",
            " flatten (Flatten)           (None, 25088)             0         \n",
            "                                                                 \n",
            " dense (Dense)               (None, 512)               12845568  \n",
            "                                                                 \n",
            " dense_1 (Dense)             (None, 64)                32832     \n",
            "                                                                 \n",
            " batch_normalization (BatchN  (None, 64)               256       \n",
            " ormalization)                                                   \n",
            "                                                                 \n",
            " dense_2 (Dense)             (None, 50)                3250      \n",
            "                                                                 \n",
            "=================================================================\n",
            "Total params: 14,432,882\n",
            "Trainable params: 14,432,754\n",
            "Non-trainable params: 128\n",
            "_________________________________________________________________\n"
          ]
        }
      ]
    },
    {
      "cell_type": "markdown",
      "metadata": {
        "id": "BDLRX46YdzGO"
      },
      "source": [
        "## 5. 制定訓練計畫\n",
        "\n",
        "把前處理完的資料輸入進去"
      ]
    },
    {
      "cell_type": "code",
      "source": [
        "callback = [tf.keras.callbacks.EarlyStopping(patience=3, monitor='val_accuracy')]"
      ],
      "metadata": {
        "id": "YTnoEY0QAYz8"
      },
      "execution_count": 19,
      "outputs": []
    },
    {
      "cell_type": "code",
      "metadata": {
        "colab": {
          "base_uri": "https://localhost:8080/"
        },
        "outputId": "b47b088c-5dab-4891-fce1-d84ef7794468",
        "id": "5QxJDb8gvNTW"
      },
      "source": [
        "# todo\n",
        "EPOCHS = 20\n",
        "\n",
        "##########\n",
        "# todo #\n",
        "##########\n",
        "# model.compile 決定 learning strategy、Loss calculator\n",
        "model.compile(loss=\"categorical_crossentropy\", optimizer=\"adam\", metrics=[\"accuracy\"])\n",
        "\n",
        "history = model.fit(train_ds, epochs=EPOCHS, validation_data=val_ds, class_weight=class_weights_dict, callbacks=callback)"
      ],
      "execution_count": null,
      "outputs": [
        {
          "output_type": "stream",
          "name": "stdout",
          "text": [
            "Epoch 1/20\n",
            "20/94 [=====>........................] - ETA: 8:31 - loss: 3.9874 - accuracy: 0.0437"
          ]
        }
      ]
    },
    {
      "cell_type": "markdown",
      "metadata": {
        "id": "gcutxbV4d1hK"
      },
      "source": [
        "## 6. 評估模型"
      ]
    },
    {
      "cell_type": "code",
      "metadata": {
        "id": "FHe6lbuZLN90",
        "colab": {
          "base_uri": "https://localhost:8080/",
          "height": 489
        },
        "outputId": "249bf5e6-8670-4ae2-9b01-5adabcac385f"
      },
      "source": [
        "print(history.history.keys())\n",
        "\n",
        "plt.plot(history.history[\"accuracy\"])\n",
        "plt.plot(history.history[\"val_accuracy\"])\n",
        "plt.title(\"model accuracy\")\n",
        "plt.ylabel(\"accuracy\")\n",
        "plt.xlabel(\"epoch\")\n",
        "plt.show()"
      ],
      "execution_count": null,
      "outputs": [
        {
          "output_type": "stream",
          "name": "stdout",
          "text": [
            "dict_keys(['loss', 'accuracy', 'val_loss', 'val_accuracy'])\n"
          ]
        },
        {
          "output_type": "display_data",
          "data": {
            "text/plain": [
              "<Figure size 640x480 with 1 Axes>"
            ],
            "image/png": "[encoded data removed]"
          },
          "metadata": {}
        }
      ]
    },
    {
      "cell_type": "code",
      "metadata": {
        "id": "Zj-kbJkSLPNV",
        "colab": {
          "base_uri": "https://localhost:8080/",
          "height": 472
        },
        "outputId": "1a9b47e0-859c-4c19-e12d-a5edbf3bfccb"
      },
      "source": [
        "plt.plot(history.history[\"loss\"])\n",
        "plt.plot(history.history[\"val_loss\"])\n",
        "plt.title(\"model loss\")\n",
        "plt.ylabel(\"loss\")\n",
        "plt.xlabel(\"epoch\")\n",
        "\n",
        "plt.show()"
      ],
      "execution_count": null,
      "outputs": [
        {
          "output_type": "display_data",
          "data": {
            "text/plain": [
              "<Figure size 640x480 with 1 Axes>"
            ],
            "image/png": "[encoded data removed]"
          },
          "metadata": {}
        }
      ]
    },
    {
      "cell_type": "code",
      "metadata": {
        "id": "K6rSmE8GLQA1",
        "colab": {
          "base_uri": "https://localhost:8080/"
        },
        "outputId": "cfb06607-0e4c-40c2-e1e4-acc70fd58369"
      },
      "source": [
        "# 讀入測試資料並評估模型\n",
        "test_ds = make_dataset(test_dir)\n",
        "test_ds = test_ds.batch(BATCH_SIZE)\n",
        "score = model.evaluate(test_ds)\n",
        "print(\"Test loss:\", score[0])\n",
        "print(\"Test accuracy:\", score[1])"
      ],
      "execution_count": null,
      "outputs": [
        {
          "output_type": "stream",
          "name": "stdout",
          "text": [
            "53/53 [==============================] - 4s 12ms/step - loss: 3.8437 - accuracy: 0.2802\n",
            "Test loss: 3.8436949253082275\n",
            "Test accuracy: 0.2802395224571228\n"
          ]
        }
      ]
    },
    {
      "cell_type": "markdown",
      "source": [
        "------------------------------------------0607進度------------------------------------------"
      ],
      "metadata": {
        "id": "AJDkMjpnadl5"
      }
    },
    {
      "cell_type": "markdown",
      "metadata": {
        "id": "seYiVdcpd4wy"
      },
      "source": [
        "## 7. 做預測 (10分)\n",
        "* 把前面讀取的圖片拿來丟入模型做預測\n",
        "* 自己把一張現實中的圖片丟入 Model 做預測"
      ]
    },
    {
      "cell_type": "code",
      "metadata": {
        "id": "FwXoqOx9LRRS"
      },
      "source": [
        "def predict_author(img):\n",
        "    # 寫個單圖片模型預測 function\n",
        "    # input : opencv img (height,width,3)\n",
        "    # output : 某個作家名字 E.g. Claude_Monet\n",
        "    #\n",
        "    # 參考步驟:\n",
        "    # 1. expand img dimension (height,width,3) -> (1,height,width,3)\n",
        "    # 2. 丟入模型 model.predict\n",
        "    # 3. 取出 softmax 後 (50,) 取最大值的 index 作為辨識結果\n",
        "    # 4. 將辨識結果轉為畫作家名字\n",
        "\n",
        "    author_name = \"\"\n",
        "    ##########\n",
        "    # todo #\n",
        "    ##########\n",
        "    return author_name"
      ],
      "execution_count": null,
      "outputs": []
    },
    {
      "cell_type": "code",
      "metadata": {
        "colab": {
          "base_uri": "https://localhost:8080/",
          "height": 256
        },
        "id": "zRyIwD4xLUvv",
        "outputId": "07d39bcf-f31d-431b-8bc2-5917b62156ee"
      },
      "source": [
        "plt.figure(figsize=(16, 16))\n",
        "for index, imgName in enumerate(show_imgs):\n",
        "    img_path = train_dir + imgName\n",
        "    img = cv.imread(img_path)\n",
        "    img = cv.cvtColor(img, cv.COLOR_BGR2RGB)\n",
        "    plt.subplot(4, 5, index + 1)\n",
        "    plt.axis(\"off\")\n",
        "    plt.imshow(img)\n",
        "    img = cv.resize(img, (IMG_WIDTH, IMG_HEIGHT))\n",
        "    img = img / 255.0\n",
        "    plt.title(\n",
        "        \"True Author : {} \\nPred Author : {}\".format(\n",
        "            \"_\".join(imgName.split(\"_\")[:-1]), predict_author(img)\n",
        "        ),\n",
        "        size=11,\n",
        "    )"
      ],
      "execution_count": null,
      "outputs": [
        {
          "output_type": "error",
          "ename": "NameError",
          "evalue": "ignored",
          "traceback": [
            "\u001b[0;31m---------------------------------------------------------------------------\u001b[0m",
            "\u001b[0;31mNameError\u001b[0m                                 Traceback (most recent call last)",
            "\u001b[0;32m<ipython-input-25-53a370718772>\u001b[0m in \u001b[0;36m<cell line: 2>\u001b[0;34m()\u001b[0m\n\u001b[1;32m      1\u001b[0m \u001b[0mplt\u001b[0m\u001b[0;34m.\u001b[0m\u001b[0mfigure\u001b[0m\u001b[0;34m(\u001b[0m\u001b[0mfigsize\u001b[0m\u001b[0;34m=\u001b[0m\u001b[0;34m(\u001b[0m\u001b[0;36m16\u001b[0m\u001b[0;34m,\u001b[0m \u001b[0;36m16\u001b[0m\u001b[0;34m)\u001b[0m\u001b[0;34m)\u001b[0m\u001b[0;34m\u001b[0m\u001b[0;34m\u001b[0m\u001b[0m\n\u001b[0;32m----> 2\u001b[0;31m \u001b[0;32mfor\u001b[0m \u001b[0mindex\u001b[0m\u001b[0;34m,\u001b[0m \u001b[0mimgName\u001b[0m \u001b[0;32min\u001b[0m \u001b[0menumerate\u001b[0m\u001b[0;34m(\u001b[0m\u001b[0mshow_imgs\u001b[0m\u001b[0;34m)\u001b[0m\u001b[0;34m:\u001b[0m\u001b[0;34m\u001b[0m\u001b[0;34m\u001b[0m\u001b[0m\n\u001b[0m\u001b[1;32m      3\u001b[0m     \u001b[0mimg_path\u001b[0m \u001b[0;34m=\u001b[0m \u001b[0mtrain_dir\u001b[0m \u001b[0;34m+\u001b[0m \u001b[0mimgName\u001b[0m\u001b[0;34m\u001b[0m\u001b[0;34m\u001b[0m\u001b[0m\n\u001b[1;32m      4\u001b[0m     \u001b[0mimg\u001b[0m \u001b[0;34m=\u001b[0m \u001b[0mcv\u001b[0m\u001b[0;34m.\u001b[0m\u001b[0mimread\u001b[0m\u001b[0;34m(\u001b[0m\u001b[0mimg_path\u001b[0m\u001b[0;34m)\u001b[0m\u001b[0;34m\u001b[0m\u001b[0;34m\u001b[0m\u001b[0m\n\u001b[1;32m      5\u001b[0m     \u001b[0mimg\u001b[0m \u001b[0;34m=\u001b[0m \u001b[0mcv\u001b[0m\u001b[0;34m.\u001b[0m\u001b[0mcvtColor\u001b[0m\u001b[0;34m(\u001b[0m\u001b[0mimg\u001b[0m\u001b[0;34m,\u001b[0m \u001b[0mcv\u001b[0m\u001b[0;34m.\u001b[0m\u001b[0mCOLOR_BGR2RGB\u001b[0m\u001b[0;34m)\u001b[0m\u001b[0;34m\u001b[0m\u001b[0;34m\u001b[0m\u001b[0m\n",
            "\u001b[0;31mNameError\u001b[0m: name 'show_imgs' is not defined"
          ]
        },
        {
          "output_type": "display_data",
          "data": {
            "text/plain": [
              "<Figure size 1600x1600 with 0 Axes>"
            ]
          },
          "metadata": {}
        }
      ]
    },
    {
      "cell_type": "markdown",
      "metadata": {
        "id": "JURLboD8TtR1"
      },
      "source": [
        "* 期望結果\n",
        "![](https://i.imgur.com/ZEtd7yf.png)"
      ]
    },
    {
      "cell_type": "markdown",
      "metadata": {
        "id": "Xo3U3frvhhjb"
      },
      "source": [
        "* 自己上傳圖片來試試看模型的效果"
      ]
    },
    {
      "cell_type": "code",
      "metadata": {
        "id": "w7Dz1wSMLWZA"
      },
      "source": [
        "from google.colab import files\n",
        "\n",
        "\n",
        "def upload_img():\n",
        "    uploaded = files.upload()\n",
        "    img_name = list(uploaded.keys())[0]\n",
        "    img = cv.imread(img_name)\n",
        "    img = cv.cvtColor(img, cv.COLOR_BGR2RGB)\n",
        "    plt.imshow(img)\n",
        "    img = cv.resize(img, (IMG_WIDTH, IMG_HEIGHT))\n",
        "    img = img / 255.0\n",
        "    return img\n",
        "\n",
        "\n",
        "def eval():\n",
        "    img = upload_img()\n",
        "    plt.title(\"predict author : {}\".format(predict_author(img)))\n",
        "    plt.axis(\"off\")\n",
        "    plt.show()"
      ],
      "execution_count": null,
      "outputs": []
    },
    {
      "cell_type": "code",
      "metadata": {
        "id": "oKHSjy-yLdnb"
      },
      "source": [
        "# 自己上傳一張圖片來試試看\n",
        "# Demo 圖片來自:\n",
        "# Interview with Cyberpunk 2077 \"ponpon shit\" producer Yuki Kawamura (https://block.fm/news/cyberpunk2077_uscracks_ENG)\n",
        "eval()"
      ],
      "execution_count": null,
      "outputs": []
    }
  ]
}